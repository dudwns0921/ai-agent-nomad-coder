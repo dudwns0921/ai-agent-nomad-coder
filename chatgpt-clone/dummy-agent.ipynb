{
 "cells": [
  {
   "cell_type": "code",
   "execution_count": 5,
   "id": "3945cfa1",
   "metadata": {},
   "outputs": [
    {
     "name": "stdout",
     "output_type": "stream",
     "text": [
      "Main Agent\n",
      "The second biggest city in Mongolia is Erdenet.\n"
     ]
    }
   ],
   "source": [
    "from agents import Agent, Runner, function_tool, SQLiteSession\n",
    "from dotenv import load_dotenv\n",
    "from agents.extensions.visualization import draw_graph\n",
    "import os\n",
    "from pydantic import BaseModel\n",
    "from agents.tracing import trace\n",
    "\n",
    "load_dotenv()\n",
    "os.environ[\"PATH\"] += os.pathsep + \"/opt/homebrew/bin\"\n",
    "\n",
    "session = SQLiteSession(\"user_1\", \"dummy-agent-ai-memory/ai-memory.db\")\n",
    "\n",
    "class Answer(BaseModel):\n",
    "    answer: str\n",
    "    background_explanation: str\n",
    "\n",
    "@function_tool\n",
    "def get_weather(city: str) -> str:\n",
    "    # Dummy implementation for weather fetching\n",
    "    return \"30\"\n",
    "\n",
    "\n",
    "geography_agent = Agent(\n",
    "    name=\"Geography Agent\",\n",
    "    instructions=\"You are an expert in geography information.\",\n",
    "    handoff_description=\"Handles questions related to geography\",\n",
    "    tools=[get_weather],\n",
    "    output_type=Answer,\n",
    ")\n",
    "\n",
    "economics_agent = Agent(\n",
    "    name=\"Economics Agent\",\n",
    "    instructions=\"You are an expert in economics and financial data.\",\n",
    "    handoff_description=\"Handles questions related to economics\",\n",
    ")\n",
    "\n",
    "main_agent = Agent(\n",
    "    name=\"Main Agent\",\n",
    "    instructions=\"You are a user facing assistant. Transfer to the agent most capable of answering the user's requests.\",\n",
    "    handoffs=[\n",
    "        geography_agent,\n",
    "        economics_agent,\n",
    "    ]\n",
    ")\n",
    "\n",
    "draw_graph(main_agent)\n",
    "\n",
    "with trace(\"user_1\"):\n",
    "    result = await Runner.run(main_agent, \"What is the second biggest city in Mongolia?\", session=session,)\n",
    "\n",
    "    print(result.last_agent.name)\n",
    "    print(result.final_output)\n"
   ]
  }
 ],
 "metadata": {
  "kernelspec": {
   "display_name": "chatgpt-clone (3.13.7)",
   "language": "python",
   "name": "python3"
  },
  "language_info": {
   "codemirror_mode": {
    "name": "ipython",
    "version": 3
   },
   "file_extension": ".py",
   "mimetype": "text/x-python",
   "name": "python",
   "nbconvert_exporter": "python",
   "pygments_lexer": "ipython3",
   "version": "3.13.7"
  }
 },
 "nbformat": 4,
 "nbformat_minor": 5
}
